{
 "cells": [
  {
   "cell_type": "code",
   "execution_count": 3,
   "metadata": {},
   "outputs": [],
   "source": [
    "import getpass\n",
    "import os\n",
    "from langchain_openai import ChatOpenAI\n",
    "\n",
    "llm = ChatOpenAI(model=\"gpt-4o-mini\")"
   ]
  },
  {
   "cell_type": "code",
   "execution_count": 8,
   "metadata": {},
   "outputs": [
    {
     "ename": "ValueError",
     "evalue": "Expected IDs to be a non-empty list, got 0 IDs",
     "output_type": "error",
     "traceback": [
      "\u001b[0;31m---------------------------------------------------------------------------\u001b[0m",
      "\u001b[0;31mValueError\u001b[0m                                Traceback (most recent call last)",
      "Cell \u001b[0;32mIn[8], line 23\u001b[0m\n\u001b[1;32m     21\u001b[0m text_splitter \u001b[38;5;241m=\u001b[39m RecursiveCharacterTextSplitter(chunk_size\u001b[38;5;241m=\u001b[39m\u001b[38;5;241m1000\u001b[39m, chunk_overlap\u001b[38;5;241m=\u001b[39m\u001b[38;5;241m200\u001b[39m)\n\u001b[1;32m     22\u001b[0m splits \u001b[38;5;241m=\u001b[39m text_splitter\u001b[38;5;241m.\u001b[39msplit_documents(docs)\n\u001b[0;32m---> 23\u001b[0m vectorstore \u001b[38;5;241m=\u001b[39m \u001b[43mChroma\u001b[49m\u001b[38;5;241;43m.\u001b[39;49m\u001b[43mfrom_documents\u001b[49m\u001b[43m(\u001b[49m\u001b[43mdocuments\u001b[49m\u001b[38;5;241;43m=\u001b[39;49m\u001b[43msplits\u001b[49m\u001b[43m,\u001b[49m\u001b[43m \u001b[49m\u001b[43membedding\u001b[49m\u001b[38;5;241;43m=\u001b[39;49m\u001b[43mOpenAIEmbeddings\u001b[49m\u001b[43m(\u001b[49m\u001b[43m)\u001b[49m\u001b[43m)\u001b[49m\n\u001b[1;32m     25\u001b[0m \u001b[38;5;66;03m# Retrieve and generate using the relevant snippets of the blog.\u001b[39;00m\n\u001b[1;32m     26\u001b[0m retriever \u001b[38;5;241m=\u001b[39m vectorstore\u001b[38;5;241m.\u001b[39mas_retriever()\n",
      "File \u001b[0;32m/Library/Frameworks/Python.framework/Versions/3.11/lib/python3.11/site-packages/langchain_chroma/vectorstores.py:921\u001b[0m, in \u001b[0;36mChroma.from_documents\u001b[0;34m(cls, documents, embedding, ids, collection_name, persist_directory, client_settings, client, collection_metadata, **kwargs)\u001b[0m\n\u001b[1;32m    919\u001b[0m texts \u001b[38;5;241m=\u001b[39m [doc\u001b[38;5;241m.\u001b[39mpage_content \u001b[38;5;28;01mfor\u001b[39;00m doc \u001b[38;5;129;01min\u001b[39;00m documents]\n\u001b[1;32m    920\u001b[0m metadatas \u001b[38;5;241m=\u001b[39m [doc\u001b[38;5;241m.\u001b[39mmetadata \u001b[38;5;28;01mfor\u001b[39;00m doc \u001b[38;5;129;01min\u001b[39;00m documents]\n\u001b[0;32m--> 921\u001b[0m \u001b[38;5;28;01mreturn\u001b[39;00m \u001b[38;5;28;43mcls\u001b[39;49m\u001b[38;5;241;43m.\u001b[39;49m\u001b[43mfrom_texts\u001b[49m\u001b[43m(\u001b[49m\n\u001b[1;32m    922\u001b[0m \u001b[43m    \u001b[49m\u001b[43mtexts\u001b[49m\u001b[38;5;241;43m=\u001b[39;49m\u001b[43mtexts\u001b[49m\u001b[43m,\u001b[49m\n\u001b[1;32m    923\u001b[0m \u001b[43m    \u001b[49m\u001b[43membedding\u001b[49m\u001b[38;5;241;43m=\u001b[39;49m\u001b[43membedding\u001b[49m\u001b[43m,\u001b[49m\n\u001b[1;32m    924\u001b[0m \u001b[43m    \u001b[49m\u001b[43mmetadatas\u001b[49m\u001b[38;5;241;43m=\u001b[39;49m\u001b[43mmetadatas\u001b[49m\u001b[43m,\u001b[49m\n\u001b[1;32m    925\u001b[0m \u001b[43m    \u001b[49m\u001b[43mids\u001b[49m\u001b[38;5;241;43m=\u001b[39;49m\u001b[43mids\u001b[49m\u001b[43m,\u001b[49m\n\u001b[1;32m    926\u001b[0m \u001b[43m    \u001b[49m\u001b[43mcollection_name\u001b[49m\u001b[38;5;241;43m=\u001b[39;49m\u001b[43mcollection_name\u001b[49m\u001b[43m,\u001b[49m\n\u001b[1;32m    927\u001b[0m \u001b[43m    \u001b[49m\u001b[43mpersist_directory\u001b[49m\u001b[38;5;241;43m=\u001b[39;49m\u001b[43mpersist_directory\u001b[49m\u001b[43m,\u001b[49m\n\u001b[1;32m    928\u001b[0m \u001b[43m    \u001b[49m\u001b[43mclient_settings\u001b[49m\u001b[38;5;241;43m=\u001b[39;49m\u001b[43mclient_settings\u001b[49m\u001b[43m,\u001b[49m\n\u001b[1;32m    929\u001b[0m \u001b[43m    \u001b[49m\u001b[43mclient\u001b[49m\u001b[38;5;241;43m=\u001b[39;49m\u001b[43mclient\u001b[49m\u001b[43m,\u001b[49m\n\u001b[1;32m    930\u001b[0m \u001b[43m    \u001b[49m\u001b[43mcollection_metadata\u001b[49m\u001b[38;5;241;43m=\u001b[39;49m\u001b[43mcollection_metadata\u001b[49m\u001b[43m,\u001b[49m\n\u001b[1;32m    931\u001b[0m \u001b[43m    \u001b[49m\u001b[38;5;241;43m*\u001b[39;49m\u001b[38;5;241;43m*\u001b[39;49m\u001b[43mkwargs\u001b[49m\u001b[43m,\u001b[49m\n\u001b[1;32m    932\u001b[0m \u001b[43m\u001b[49m\u001b[43m)\u001b[49m\n",
      "File \u001b[0;32m/Library/Frameworks/Python.framework/Versions/3.11/lib/python3.11/site-packages/langchain_chroma/vectorstores.py:882\u001b[0m, in \u001b[0;36mChroma.from_texts\u001b[0;34m(cls, texts, embedding, metadatas, ids, collection_name, persist_directory, client_settings, client, collection_metadata, **kwargs)\u001b[0m\n\u001b[1;32m    876\u001b[0m         chroma_collection\u001b[38;5;241m.\u001b[39madd_texts(\n\u001b[1;32m    877\u001b[0m             texts\u001b[38;5;241m=\u001b[39mbatch[\u001b[38;5;241m3\u001b[39m] \u001b[38;5;28;01mif\u001b[39;00m batch[\u001b[38;5;241m3\u001b[39m] \u001b[38;5;28;01melse\u001b[39;00m [],\n\u001b[1;32m    878\u001b[0m             metadatas\u001b[38;5;241m=\u001b[39mbatch[\u001b[38;5;241m2\u001b[39m] \u001b[38;5;28;01mif\u001b[39;00m batch[\u001b[38;5;241m2\u001b[39m] \u001b[38;5;28;01melse\u001b[39;00m \u001b[38;5;28;01mNone\u001b[39;00m,  \u001b[38;5;66;03m# type: ignore\u001b[39;00m\n\u001b[1;32m    879\u001b[0m             ids\u001b[38;5;241m=\u001b[39mbatch[\u001b[38;5;241m0\u001b[39m],\n\u001b[1;32m    880\u001b[0m         )\n\u001b[1;32m    881\u001b[0m \u001b[38;5;28;01melse\u001b[39;00m:\n\u001b[0;32m--> 882\u001b[0m     \u001b[43mchroma_collection\u001b[49m\u001b[38;5;241;43m.\u001b[39;49m\u001b[43madd_texts\u001b[49m\u001b[43m(\u001b[49m\u001b[43mtexts\u001b[49m\u001b[38;5;241;43m=\u001b[39;49m\u001b[43mtexts\u001b[49m\u001b[43m,\u001b[49m\u001b[43m \u001b[49m\u001b[43mmetadatas\u001b[49m\u001b[38;5;241;43m=\u001b[39;49m\u001b[43mmetadatas\u001b[49m\u001b[43m,\u001b[49m\u001b[43m \u001b[49m\u001b[43mids\u001b[49m\u001b[38;5;241;43m=\u001b[39;49m\u001b[43mids\u001b[49m\u001b[43m)\u001b[49m\n\u001b[1;32m    883\u001b[0m \u001b[38;5;28;01mreturn\u001b[39;00m chroma_collection\n",
      "File \u001b[0;32m/Library/Frameworks/Python.framework/Versions/3.11/lib/python3.11/site-packages/langchain_chroma/vectorstores.py:438\u001b[0m, in \u001b[0;36mChroma.add_texts\u001b[0;34m(self, texts, metadatas, ids, **kwargs)\u001b[0m\n\u001b[1;32m    432\u001b[0m         \u001b[38;5;28mself\u001b[39m\u001b[38;5;241m.\u001b[39m_collection\u001b[38;5;241m.\u001b[39mupsert(\n\u001b[1;32m    433\u001b[0m             embeddings\u001b[38;5;241m=\u001b[39membeddings_without_metadatas,  \u001b[38;5;66;03m# type: ignore\u001b[39;00m\n\u001b[1;32m    434\u001b[0m             documents\u001b[38;5;241m=\u001b[39mtexts_without_metadatas,\n\u001b[1;32m    435\u001b[0m             ids\u001b[38;5;241m=\u001b[39mids_without_metadatas,\n\u001b[1;32m    436\u001b[0m         )\n\u001b[1;32m    437\u001b[0m \u001b[38;5;28;01melse\u001b[39;00m:\n\u001b[0;32m--> 438\u001b[0m     \u001b[38;5;28;43mself\u001b[39;49m\u001b[38;5;241;43m.\u001b[39;49m\u001b[43m_collection\u001b[49m\u001b[38;5;241;43m.\u001b[39;49m\u001b[43mupsert\u001b[49m\u001b[43m(\u001b[49m\n\u001b[1;32m    439\u001b[0m \u001b[43m        \u001b[49m\u001b[43membeddings\u001b[49m\u001b[38;5;241;43m=\u001b[39;49m\u001b[43membeddings\u001b[49m\u001b[43m,\u001b[49m\u001b[43m  \u001b[49m\u001b[38;5;66;43;03m# type: ignore\u001b[39;49;00m\n\u001b[1;32m    440\u001b[0m \u001b[43m        \u001b[49m\u001b[43mdocuments\u001b[49m\u001b[38;5;241;43m=\u001b[39;49m\u001b[43mtexts\u001b[49m\u001b[43m,\u001b[49m\n\u001b[1;32m    441\u001b[0m \u001b[43m        \u001b[49m\u001b[43mids\u001b[49m\u001b[38;5;241;43m=\u001b[39;49m\u001b[43mids\u001b[49m\u001b[43m,\u001b[49m\n\u001b[1;32m    442\u001b[0m \u001b[43m    \u001b[49m\u001b[43m)\u001b[49m\n\u001b[1;32m    443\u001b[0m \u001b[38;5;28;01mreturn\u001b[39;00m ids\n",
      "File \u001b[0;32m/Library/Frameworks/Python.framework/Versions/3.11/lib/python3.11/site-packages/chromadb/api/models/Collection.py:296\u001b[0m, in \u001b[0;36mCollection.upsert\u001b[0;34m(self, ids, embeddings, metadatas, documents, images, uris)\u001b[0m\n\u001b[1;32m    265\u001b[0m \u001b[38;5;28;01mdef\u001b[39;00m \u001b[38;5;21mupsert\u001b[39m(\n\u001b[1;32m    266\u001b[0m     \u001b[38;5;28mself\u001b[39m,\n\u001b[1;32m    267\u001b[0m     ids: OneOrMany[ID],\n\u001b[0;32m   (...)\u001b[0m\n\u001b[1;32m    277\u001b[0m     uris: Optional[OneOrMany[URI]] \u001b[38;5;241m=\u001b[39m \u001b[38;5;28;01mNone\u001b[39;00m,\n\u001b[1;32m    278\u001b[0m ) \u001b[38;5;241m-\u001b[39m\u001b[38;5;241m>\u001b[39m \u001b[38;5;28;01mNone\u001b[39;00m:\n\u001b[1;32m    279\u001b[0m \u001b[38;5;250m    \u001b[39m\u001b[38;5;124;03m\"\"\"Update the embeddings, metadatas or documents for provided ids, or create them if they don't exist.\u001b[39;00m\n\u001b[1;32m    280\u001b[0m \n\u001b[1;32m    281\u001b[0m \u001b[38;5;124;03m    Args:\u001b[39;00m\n\u001b[0;32m   (...)\u001b[0m\n\u001b[1;32m    288\u001b[0m \u001b[38;5;124;03m        None\u001b[39;00m\n\u001b[1;32m    289\u001b[0m \u001b[38;5;124;03m    \"\"\"\u001b[39;00m\n\u001b[1;32m    290\u001b[0m     (\n\u001b[1;32m    291\u001b[0m         ids,\n\u001b[1;32m    292\u001b[0m         embeddings,\n\u001b[1;32m    293\u001b[0m         metadatas,\n\u001b[1;32m    294\u001b[0m         documents,\n\u001b[1;32m    295\u001b[0m         uris,\n\u001b[0;32m--> 296\u001b[0m     ) \u001b[38;5;241m=\u001b[39m \u001b[38;5;28;43mself\u001b[39;49m\u001b[38;5;241;43m.\u001b[39;49m\u001b[43m_validate_and_prepare_upsert_request\u001b[49m\u001b[43m(\u001b[49m\n\u001b[1;32m    297\u001b[0m \u001b[43m        \u001b[49m\u001b[43mids\u001b[49m\u001b[43m,\u001b[49m\u001b[43m \u001b[49m\u001b[43membeddings\u001b[49m\u001b[43m,\u001b[49m\u001b[43m \u001b[49m\u001b[43mmetadatas\u001b[49m\u001b[43m,\u001b[49m\u001b[43m \u001b[49m\u001b[43mdocuments\u001b[49m\u001b[43m,\u001b[49m\u001b[43m \u001b[49m\u001b[43mimages\u001b[49m\u001b[43m,\u001b[49m\u001b[43m \u001b[49m\u001b[43muris\u001b[49m\n\u001b[1;32m    298\u001b[0m \u001b[43m    \u001b[49m\u001b[43m)\u001b[49m\n\u001b[1;32m    300\u001b[0m     \u001b[38;5;28mself\u001b[39m\u001b[38;5;241m.\u001b[39m_client\u001b[38;5;241m.\u001b[39m_upsert(\n\u001b[1;32m    301\u001b[0m         collection_id\u001b[38;5;241m=\u001b[39m\u001b[38;5;28mself\u001b[39m\u001b[38;5;241m.\u001b[39mid,\n\u001b[1;32m    302\u001b[0m         ids\u001b[38;5;241m=\u001b[39mids,\n\u001b[0;32m   (...)\u001b[0m\n\u001b[1;32m    306\u001b[0m         uris\u001b[38;5;241m=\u001b[39muris,\n\u001b[1;32m    307\u001b[0m     )\n",
      "File \u001b[0;32m/Library/Frameworks/Python.framework/Versions/3.11/lib/python3.11/site-packages/chromadb/api/models/CollectionCommon.py:525\u001b[0m, in \u001b[0;36mCollectionCommon._validate_and_prepare_upsert_request\u001b[0;34m(self, ids, embeddings, metadatas, documents, images, uris)\u001b[0m\n\u001b[1;32m    498\u001b[0m \u001b[38;5;28;01mdef\u001b[39;00m \u001b[38;5;21m_validate_and_prepare_upsert_request\u001b[39m(\n\u001b[1;32m    499\u001b[0m     \u001b[38;5;28mself\u001b[39m,\n\u001b[1;32m    500\u001b[0m     ids: OneOrMany[ID],\n\u001b[0;32m   (...)\u001b[0m\n\u001b[1;32m    516\u001b[0m     Optional[URIs],\n\u001b[1;32m    517\u001b[0m ]:\n\u001b[1;32m    518\u001b[0m     (\n\u001b[1;32m    519\u001b[0m         ids,\n\u001b[1;32m    520\u001b[0m         embeddings,\n\u001b[1;32m    521\u001b[0m         metadatas,\n\u001b[1;32m    522\u001b[0m         documents,\n\u001b[1;32m    523\u001b[0m         images,\n\u001b[1;32m    524\u001b[0m         uris,\n\u001b[0;32m--> 525\u001b[0m     ) \u001b[38;5;241m=\u001b[39m \u001b[38;5;28;43mself\u001b[39;49m\u001b[38;5;241;43m.\u001b[39;49m\u001b[43m_validate_embedding_set\u001b[49m\u001b[43m(\u001b[49m\n\u001b[1;32m    526\u001b[0m \u001b[43m        \u001b[49m\u001b[43mids\u001b[49m\u001b[43m,\u001b[49m\u001b[43m \u001b[49m\u001b[43membeddings\u001b[49m\u001b[43m,\u001b[49m\u001b[43m \u001b[49m\u001b[43mmetadatas\u001b[49m\u001b[43m,\u001b[49m\u001b[43m \u001b[49m\u001b[43mdocuments\u001b[49m\u001b[43m,\u001b[49m\u001b[43m \u001b[49m\u001b[43mimages\u001b[49m\u001b[43m,\u001b[49m\u001b[43m \u001b[49m\u001b[43muris\u001b[49m\n\u001b[1;32m    527\u001b[0m \u001b[43m    \u001b[49m\u001b[43m)\u001b[49m\n\u001b[1;32m    529\u001b[0m     \u001b[38;5;28;01mif\u001b[39;00m embeddings \u001b[38;5;129;01mis\u001b[39;00m \u001b[38;5;28;01mNone\u001b[39;00m:\n\u001b[1;32m    530\u001b[0m         \u001b[38;5;28;01mif\u001b[39;00m documents \u001b[38;5;129;01mis\u001b[39;00m \u001b[38;5;129;01mnot\u001b[39;00m \u001b[38;5;28;01mNone\u001b[39;00m:\n",
      "File \u001b[0;32m/Library/Frameworks/Python.framework/Versions/3.11/lib/python3.11/site-packages/chromadb/api/models/CollectionCommon.py:173\u001b[0m, in \u001b[0;36mCollectionCommon._validate_embedding_set\u001b[0;34m(self, ids, embeddings, metadatas, documents, images, uris, require_embeddings_or_data)\u001b[0m\n\u001b[1;32m    151\u001b[0m \u001b[38;5;28;01mdef\u001b[39;00m \u001b[38;5;21m_validate_embedding_set\u001b[39m(\n\u001b[1;32m    152\u001b[0m     \u001b[38;5;28mself\u001b[39m,\n\u001b[1;32m    153\u001b[0m     ids: OneOrMany[ID],\n\u001b[0;32m   (...)\u001b[0m\n\u001b[1;32m    171\u001b[0m     Optional[URIs],\n\u001b[1;32m    172\u001b[0m ]:\n\u001b[0;32m--> 173\u001b[0m     valid_ids \u001b[38;5;241m=\u001b[39m \u001b[43mvalidate_ids\u001b[49m\u001b[43m(\u001b[49m\u001b[43mmaybe_cast_one_to_many_ids\u001b[49m\u001b[43m(\u001b[49m\u001b[43mids\u001b[49m\u001b[43m)\u001b[49m\u001b[43m)\u001b[49m\n\u001b[1;32m    174\u001b[0m     valid_embeddings \u001b[38;5;241m=\u001b[39m (\n\u001b[1;32m    175\u001b[0m         validate_embeddings(\n\u001b[1;32m    176\u001b[0m             \u001b[38;5;28mself\u001b[39m\u001b[38;5;241m.\u001b[39m_normalize_embeddings(maybe_cast_one_to_many_embedding(embeddings))\n\u001b[0;32m   (...)\u001b[0m\n\u001b[1;32m    179\u001b[0m         \u001b[38;5;28;01melse\u001b[39;00m \u001b[38;5;28;01mNone\u001b[39;00m\n\u001b[1;32m    180\u001b[0m     )\n\u001b[1;32m    181\u001b[0m     valid_metadatas \u001b[38;5;241m=\u001b[39m (\n\u001b[1;32m    182\u001b[0m         validate_metadatas(maybe_cast_one_to_many_metadata(metadatas))\n\u001b[1;32m    183\u001b[0m         \u001b[38;5;28;01mif\u001b[39;00m metadatas \u001b[38;5;129;01mis\u001b[39;00m \u001b[38;5;129;01mnot\u001b[39;00m \u001b[38;5;28;01mNone\u001b[39;00m\n\u001b[1;32m    184\u001b[0m         \u001b[38;5;28;01melse\u001b[39;00m \u001b[38;5;28;01mNone\u001b[39;00m\n\u001b[1;32m    185\u001b[0m     )\n",
      "File \u001b[0;32m/Library/Frameworks/Python.framework/Versions/3.11/lib/python3.11/site-packages/chromadb/api/types.py:248\u001b[0m, in \u001b[0;36mvalidate_ids\u001b[0;34m(ids)\u001b[0m\n\u001b[1;32m    246\u001b[0m     \u001b[38;5;28;01mraise\u001b[39;00m \u001b[38;5;167;01mValueError\u001b[39;00m(\u001b[38;5;124mf\u001b[39m\u001b[38;5;124m\"\u001b[39m\u001b[38;5;124mExpected IDs to be a list, got \u001b[39m\u001b[38;5;132;01m{\u001b[39;00m\u001b[38;5;28mtype\u001b[39m(ids)\u001b[38;5;241m.\u001b[39m\u001b[38;5;18m__name__\u001b[39m\u001b[38;5;132;01m}\u001b[39;00m\u001b[38;5;124m as IDs\u001b[39m\u001b[38;5;124m\"\u001b[39m)\n\u001b[1;32m    247\u001b[0m \u001b[38;5;28;01mif\u001b[39;00m \u001b[38;5;28mlen\u001b[39m(ids) \u001b[38;5;241m==\u001b[39m \u001b[38;5;241m0\u001b[39m:\n\u001b[0;32m--> 248\u001b[0m     \u001b[38;5;28;01mraise\u001b[39;00m \u001b[38;5;167;01mValueError\u001b[39;00m(\u001b[38;5;124mf\u001b[39m\u001b[38;5;124m\"\u001b[39m\u001b[38;5;124mExpected IDs to be a non-empty list, got \u001b[39m\u001b[38;5;132;01m{\u001b[39;00m\u001b[38;5;28mlen\u001b[39m(ids)\u001b[38;5;132;01m}\u001b[39;00m\u001b[38;5;124m IDs\u001b[39m\u001b[38;5;124m\"\u001b[39m)\n\u001b[1;32m    249\u001b[0m seen \u001b[38;5;241m=\u001b[39m \u001b[38;5;28mset\u001b[39m()\n\u001b[1;32m    250\u001b[0m dups \u001b[38;5;241m=\u001b[39m \u001b[38;5;28mset\u001b[39m()\n",
      "\u001b[0;31mValueError\u001b[0m: Expected IDs to be a non-empty list, got 0 IDs"
     ]
    }
   ],
   "source": [
    "import bs4\n",
    "from langchain import hub\n",
    "from langchain_chroma import Chroma\n",
    "from langchain_community.document_loaders import WebBaseLoader\n",
    "from langchain_core.output_parsers import StrOutputParser\n",
    "from langchain_core.runnables import RunnablePassthrough\n",
    "from langchain_openai import OpenAIEmbeddings\n",
    "from langchain_text_splitters import RecursiveCharacterTextSplitter\n",
    "\n",
    "# Load, chunk and index the contents of the blog.\n",
    "loader = WebBaseLoader(\n",
    "    web_paths=(\"https://lilianweng.github.io/posts/2023-06-23-agent/\",),\n",
    "    bs_kwargs=dict(\n",
    "        parse_only=bs4.SoupStrainer(\n",
    "            class_=(\"post-content\", \"post-title\", \"post-header\")\n",
    "        )\n",
    "    ),\n",
    ")\n",
    "docs = loader.load()\n",
    "\n",
    "text_splitter = RecursiveCharacterTextSplitter(chunk_size=1000, chunk_overlap=200)\n",
    "splits = text_splitter.split_documents(docs)\n",
    "vectorstore = Chroma.from_documents(documents=splits, embedding=OpenAIEmbeddings())\n",
    "\n",
    "# Retrieve and generate using the relevant snippets of the blog.\n",
    "retriever = vectorstore.as_retriever()\n",
    "prompt = hub.pull(\"rlm/rag-prompt\")\n",
    "\n",
    "\n",
    "def format_docs(docs):\n",
    "    return \"\\n\\n\".join(doc.page_content for doc in docs)\n",
    "\n",
    "\n",
    "rag_chain = (\n",
    "    {\"context\": retriever | format_docs, \"question\": RunnablePassthrough()}\n",
    "    | prompt\n",
    "    | llm\n",
    "    | StrOutputParser()\n",
    ")\n",
    "\n",
    "rag_chain.invoke(\"What is Task Decomposition?\")"
   ]
  },
  {
   "cell_type": "code",
   "execution_count": 5,
   "metadata": {},
   "outputs": [],
   "source": [
    "# cleanup\n",
    "vectorstore.delete_collection()"
   ]
  },
  {
   "cell_type": "code",
   "execution_count": 15,
   "metadata": {},
   "outputs": [
    {
     "name": "stdout",
     "output_type": "stream",
     "text": [
      "\n",
      "\n",
      "\n",
      "Tim Walz’s Rise in the Democratic Party Was No Accident - The New York Times\n",
      "  \n",
      "\n",
      "\n",
      "\n",
      "\n",
      "\n",
      "\n",
      "\n",
      "\n",
      "\n",
      "\n",
      "\n",
      "\n",
      "\n",
      "\n",
      "\n",
      "\n",
      "\n",
      "\n",
      "\n",
      "\n",
      "Skip to contentSkip to site indexPolitics Today’s PaperliveUpdatesAug. 8, 2024, 11:41 a.m. ETPoll TrackerWhy Harris Picked WalzWalz’s Path to ProminenceElection CalendarTimeline: Candidates’ CareersAdvertisementSKIP ADVERTISEMENTSupported bySKIP ADVERTISEMENTTim Walz’s Sudden Rise in the Democratic Party Was No AccidentMore than a year ago, Tim Walz and his aides decided to be ready in case an irresistible opportunity arose. Their tightly held strategy helped them catch political lightning in a bottle.Listen to this article · 10:25 min Learn moreShare full article1060Just months ago, Gov. Tim Walz of Minnesota was little known on the national stage. He was not initially considered a front-runner to become Vice President Kamala Harris’s running mate. Credit...Erin Schaff/The New York TimesBy Reid J. EpsteinLisa LererShane Goldmacher and Theodore SchleiferReid J. Epstein reported from Philadelphia, Lisa Lerer and Shane Goldmacher from New York, and Theodore Schleifer from Washington.Published Aug. 7, 2024Updated Aug. 8, 2024, 9:54 a.m. ETFollow live updates on the 2024 election.Shortly after the 2022 midterms, the political map seemed set: President Biden would be the Democratic nominee in 2024, with Vice President Kamala Harris by his side.But up in Minnesota, Gov. Tim Walz had just led his party to sweeping victories and wondered about the possibility of a different future — one where his Midwestern brand might be needed for a national role, perhaps even on a presidential ticket.So the plain-spoken Mr. Walz and his aides crafted a strategy to inject him into the national political conversation, according to a person involved in the discussions who insisted on anonymity to reveal Mr. Walz’s thinking. They would build his profile, one state party dinner and cable news appearance at a time. And few Democratic politicians, officials or members of the party faithful would see them coming because they would do it in a way that was, above all, Minnesota Nice.Their plan exploded into the public consciousness over a turbulent two weeks. Mr. Walz transformed from a little-known governor of a blue state to one of his party’s most prominent and powerful messengers. His approach, combined with a heavy dose of luck, helped him win the coveted vice-presidential nomination over rising stars from battleground states and liberal favorites.Mr. Walz achieved what his team had worked for 18 months to accomplish: He went viral. As his standing rose, he remained unfailingly loyal, humble and optimistic about the future in his interviews behind closed doors with Ms. Harris and her team.But underneath that veneer of Midwestern politeness, Mr. Walz had angled to improve his political prospects. In early 2023, his political staff began a concerted effort to hone his message and shine a light on his accomplishments. Aides pitched him relentlessly to podcasters, reporters, donors and activists. That summer, his team branded his progressive legislation “the Minnesota Miracle.”“They were aggressive in a way without coming across as too thirsty or too aggressive,” said Ken Martin, the chairman of the Minnesota Democratic-Farmer-Labor Party. “They definitely were out there pushing hard, but doing it in a way that didn’t alienate Kamala Harris or her team.”ImageWith a flood of appearances in the news media, Mr. Walz quickly became a favorite among Democratic voters and donors. Credit...Jenn Ackerman for The New York TimesThis account of Mr. Walz’s rise is based on interviews with more than a dozen Democratic officials, activists and donors who are close to the Harris campaign or to Mr. Walz.The Walz aides understood the challenge they faced: In a party that valued diversity, the governor was an older, white former high school football coach who exuded Midwestern dad vibes. But they also knew that making him go viral would take effort and skill. He could not look too media-hungry and needed to rely on his authenticity to stand out in a party dominated by more polished performers.Even the moment that appeared to suddenly catapult him into the hearts of Democratic donors and voters had been months in coming. Mr. Walz unveiled his attack that former President Donald J. Trump was “weird” in February, long before Mr. Biden exited the race.He repeated the line in speeches and TV appearances, but the epithet caught fire at just the right time: when Ms. Harris was looking for a running mate and Democratic voters were paying fresh attention to a race they had wanted to ignore. Mr. Walz’s words became a refrain for Democrats eager to take down a man who had been built up to supervillain proportions by the Biden campaign.“These ideas that they’re putting out there, they are weird as hell,” Mr. Walz said at a rally on Wednesday night in Michigan.The media blitz had some Democratic operatives describing themselves as “Walz-pilled” — sudden converts to his cause. At the same time, the Trump campaign and some progressive activists focused on undercutting Gov. Josh Shapiro of Pennsylvania. Some Democratic officials and strategists circulated rumors of personal misconduct about other candidates, largely leaving Mr. Walz unscathed.But Mr. Walz also relied on a skill he had refined over a career in the classroom and a conservative congressional district: being pleasantly agreeable.When he was asked to defend Mr. Biden in the news media, Mr. Walz said yes. When he was asked to lead the Democratic National Convention’s rules committee, he said yes. And when he was asked to speak at party dinners, raise money for Democratic campaigns or help colleagues, Mr. Walz said yes — and distributed his cellphone number to nearly anyone who wanted to follow up.Some of his actions amounted to the political equivalent of shoveling the neighbor’s driveway in the middle of a Minnesota snowstorm. Since December, he had led the Democratic Governors Association, which required him to vouch for Mr. Biden during a period when the president’s misstatements and sinking approval ratings needed a lot of explaining.In January, the weekend before the Iowa caucuses — in which Mr. Biden did not compete — Mr. Walz agreed to drive for hours through subzero temperatures and a foot of snow to make the president’s case early Sunday on NBC’s “Meet the Press.”It was that perceived generosity that most impressed Ms. Harris and her team. Her advisers had begun by considering nine candidates — in addition to the widely reported final six, Gov. Michelle Lujan Grisham of New Mexico, Gov. Wes Moore of Maryland and Gina Raimondo, the secretary of commerce, were vetted — and Mr. Walz was not perceived as a front-runner.ImageMr. Walz welcoming President Biden to Northfield, Minn., in November. As the chair of the Democratic Governors Association until this week, he often had to defend Mr. Biden as the president’s approval ratings dipped.Credit...Kent Nishimura for The New York TimesBut the Harris team liked his loyalty. Unlike Mr. Shapiro, who wanted to know how the relationship would work if he were on the ticket, Mr. Walz volunteered that he would do whatever Ms. Harris wanted and minimized his political ambitions, according to two people familiar with the selection process.Ms. Harris saw him as a trustworthy partner who was not looking to promote himself at her expense. Her aides were particularly taken by Mr. Walz’s admission during the vetting process that he did not use a teleprompter. He had to practice with the machine before their first rally in Philadelphia.When Marty Walsh, an informal Harris adviser and former labor secretary who was helping with vice-presidential vetting, confronted Mr. Walz with the details of his drunk-driving arrest in 1995, the governor said he had no excuses. He had learned from the experience, he said, and had not drunk in decades.That openness vaulted him to the top of the Harris team’s list.But his long relationships, dating to his first campaign for office in 2006, also paid dividends. His home-state senators, Amy Klobuchar and Tina Smith, promoted him in the news media and in private discussions with people close to the Harris campaign. Mr. Walz himself urged his former House colleagues to vouch for him, just in case anybody asked.He also did some of the work on his own. Out of the blue recently, he called the Rev. Al Sharpton, the civil rights leader and media figure — and occasional informal adviser to Ms. Harris — just to check in, Mr. Sharpton said.ImageSenator Amy Klobuchar of Minnesota was among the longtime Walz allies who promoted his case for vice president.Credit...Caroline Yang for The New York TimesMr. Walz also had help from some other longtime fans.About a week before Mr. Biden ended his campaign, Jane Kleeb, the chair of the Nebraska Democratic Party, was traveling in Cambodia when she realized that the party would soon need a new running mate. The opportunity to elevate a fellow Midwesterner and Nebraska native struck her as a chance not to be missed. For years, she had been friends with Mr. Walz, a regular speaker at fund-raisers for Nebraska Democrats.So along with some progressive allies in the Midwest, Ms. Kleeb helped draft a document promoting his strengths as a running mate. When Mr. Biden dropped out, the document circulated widely, helping lift Mr. Walz’s profile.Its 10 pages included a brief biography, details on his legislative record, links to positive news coverage and flattering photographs, including one showing children hugging him during the signing of a bill creating a free school-lunch program for all Minnesota students.Ms. Kleeb was in contact with Mr. Walz’s chief of staff, who she said was appreciative but did not provide direction — or suggest that the group should stop.“This was the one moment where we could get someone who understands rural populist culture and believes in state parties,” Ms. Kleeb said. “We couldn’t ask for more.”Last year, Ms. Kleeb had introduced Mr. Walz to the gun-control activist David Hogg, who bombarded aides to Ms. Harris with texts and old video clips he had found of Mr. Walz — to the point that Mr. Hogg said the Harris campaign once gently told him that they “got it.” At the same time, Mr. Walz began his whirlwind media tour, doing five TV interviews on four networks two days after Mr. Biden dropped out. By the end of the week, he had done seven more, along with long interviews on influential liberal podcasts.Those appearances helped cultivate liberal donors, many of whom had known little about Mr. Walz but ended up evangelists for him.“Walz wasn’t even on my radar when I was throwing in suggestions,” Reid Hoffman, a major Democratic donor, told an audience of venture capitalists on Wednesday.ImageIn the final stages of the vetting process, Ms. Harris and her team were impressed by Mr. Walz’s loyalty, seeing him as a trustworthy partner who was not looking to promote himself at her expense.Credit...Jenn Ackerman for The New York TimesDoran Schrantz, a Walz-allied operative in Minnesota who helped write the document that Ms. Kleeb circulated, described a close-knit network of strategists in the state — many with ties to organized labor — pushing Mr. Walz’s case.Ms. Schrantz summed up the group’s thinking: “What the hell — let’s do this for Tim Walz.”On Monday night, Donna Brazile, a Democratic strategist who worked with Mr. Walz on the convention’s rules committee, began to sense that he might be chosen.As she walked her dog, Ms. Brazile embarked on her own informal vetting process, beginning by calling Keith Ellison, the Minnesota attorney general, who was in Peru. Mr. Ellison suggested that she contact other top Minnesota officials, including Black leaders who had worked with Mr. Walz.Ms. Brazile wrote down her findings on a pink notepad and sent them to friends involved in vetting the potential candidates — offering a late-night endorsement in the final moments.“I don’t know where you all are, but Gov. Tim Walz, everybody gives him thumbs up,” she recounted telling them. “By the way, I didn’t get that 100 percent thumbs up for any of the other candidates.”Reid J. Epstein covers campaigns and elections from Washington. Before joining The Times in 2019, he worked at The Wall Street Journal, Politico, Newsday and The Milwaukee Journal Sentinel. More about Reid J. EpsteinLisa Lerer is a national political reporter for The Times, based in New York. She has covered American politics for nearly two decades. More about Lisa LererShane Goldmacher is a national political correspondent, covering the 2024 campaign and the major developments, trends and forces shaping American politics. He can be reached at shane.goldmacher@nytimes.com. More about Shane GoldmacherTheodore Schleifer writes about campaign finance and the influence of billionaires in American politics. More about Theodore SchleiferSee more on: Kamala Harris, 2024 Elections, Democratic Party, U.S. Politics1060Share full article1060AdvertisementSKIP ADVERTISEMENTSite IndexSite Information Navigation© 2024 The New York Times CompanyNYTCoContact UsAccessibilityWork with usAdvertiseT Brand StudioYour Ad ChoicesPrivacy PolicyTerms of ServiceTerms of SaleSite MapCanadaInternationalHelpSubscriptionsManage Privacy Preferences\n",
      "\n",
      "\n",
      "\n",
      "\n",
      "\n",
      "\n",
      "\n",
      "\n",
      "\n",
      "\n",
      "\n",
      "\n",
      "\n",
      "\n",
      "\n",
      "\n"
     ]
    }
   ],
   "source": [
    "import bs4\n",
    "from langchain_community.document_loaders import WebBaseLoader\n",
    "\n",
    "# Only keep post title, headers, and content from the full HTML.\n",
    "bs4_strainer = bs4.SoupStrainer()\n",
    "loader = WebBaseLoader(\n",
    "    web_paths=(\"https://www.nytimes.com/2024/08/07/us/politics/tim-walz-kamala-harris-2024.html\",),\n",
    "    bs_kwargs={\"parse_only\": bs4_strainer},\n",
    ")\n",
    "docs = loader.load()\n",
    "\n",
    "print(docs[0].page_content)"
   ]
  }
 ],
 "metadata": {
  "kernelspec": {
   "display_name": "llm",
   "language": "python",
   "name": "python3"
  },
  "language_info": {
   "codemirror_mode": {
    "name": "ipython",
    "version": 3
   },
   "file_extension": ".py",
   "mimetype": "text/x-python",
   "name": "python",
   "nbconvert_exporter": "python",
   "pygments_lexer": "ipython3",
   "version": "3.11.1"
  }
 },
 "nbformat": 4,
 "nbformat_minor": 2
}
